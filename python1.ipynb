{
 "cells": [
  {
   "cell_type": "markdown",
   "id": "6270ee28-e157-426f-a8f6-9f888cb5ba98",
   "metadata": {},
   "source": [
    "# Curso python\n",
    "### Comentarios\n",
    "**Texto en negrita**\n",
    "*Texto en cursiva*\n",
    "- Item 1\n",
    "- Item 2\n",
    "  \n"
   ]
  },
  {
   "cell_type": "code",
   "execution_count": 1,
   "id": "71868504-79e6-43f9-94a3-70fe83788e5c",
   "metadata": {},
   "outputs": [
    {
     "name": "stdout",
     "output_type": "stream",
     "text": [
      "Hola\n"
     ]
    }
   ],
   "source": [
    "print (\"Hola\")\n"
   ]
  },
  {
   "cell_type": "code",
   "execution_count": 2,
   "id": "439e7383-8e71-40e6-af5b-36490152c48e",
   "metadata": {},
   "outputs": [
    {
     "name": "stdout",
     "output_type": "stream",
     "text": [
      "Hola\n"
     ]
    }
   ],
   "source": [
    "variable1= \"Hola\"\n",
    "print (variable1)"
   ]
  },
  {
   "cell_type": "code",
   "execution_count": 3,
   "id": "32116282-372a-4e03-9947-544affd15646",
   "metadata": {},
   "outputs": [
    {
     "name": "stdout",
     "output_type": "stream",
     "text": [
      "Hola mundo\n"
     ]
    }
   ],
   "source": [
    "var1= \"Hola mundo\"\n",
    "var2= var1\n",
    "print (var2)\n"
   ]
  },
  {
   "cell_type": "code",
   "execution_count": 4,
   "id": "237e6e4c-9236-4421-bd40-0a5ef058bee3",
   "metadata": {},
   "outputs": [
    {
     "name": "stdout",
     "output_type": "stream",
     "text": [
      "15\n"
     ]
    }
   ],
   "source": [
    "a=5\n",
    "b=10\n",
    "print (a+b)\n"
   ]
  },
  {
   "cell_type": "code",
   "execution_count": 8,
   "id": "855bc969-5a38-4e6b-9e7b-bb4714681234",
   "metadata": {},
   "outputs": [
    {
     "name": "stdout",
     "output_type": "stream",
     "text": [
      "Olimpia Machado\n"
     ]
    }
   ],
   "source": [
    "Nombre= \"Olimpia\"\n",
    "Apellido= \"Machado\"\n",
    "print (Nombre + \" \" + Apellido)"
   ]
  },
  {
   "cell_type": "code",
   "execution_count": 9,
   "id": "c5756aee-0dfd-454d-8c1b-54ef0e1f2525",
   "metadata": {},
   "outputs": [
    {
     "name": "stdin",
     "output_type": "stream",
     "text": [
      "¿Cómo te llamas? Olimpia\n"
     ]
    },
    {
     "name": "stdout",
     "output_type": "stream",
     "text": [
      "me llamo Olimpia\n"
     ]
    }
   ],
   "source": [
    "nombre= input (\"¿Cómo te llamas?\")\n",
    "print (f\"me llamo {nombre}\")\n"
   ]
  },
  {
   "cell_type": "code",
   "execution_count": 11,
   "id": "67e6b51f-47dc-42c4-b4ec-623961fedec0",
   "metadata": {},
   "outputs": [
    {
     "name": "stdout",
     "output_type": "stream",
     "text": [
      "20 75 10 3.0\n"
     ]
    }
   ],
   "source": [
    "a= 5\n",
    "b= 15\n",
    "r1= a + b\n",
    "r2= a * b\n",
    "r3= b - a\n",
    "r4= b/a\n",
    "print (r1, r2, r3, r4)"
   ]
  },
  {
   "cell_type": "code",
   "execution_count": 13,
   "id": "b86a382e-dc2e-4d8e-9c93-01bbb3b0531c",
   "metadata": {},
   "outputs": [
    {
     "name": "stdout",
     "output_type": "stream",
     "text": [
      "[1, 2, 3, 4]\n"
     ]
    }
   ],
   "source": [
    "lista= [1,2,3,4]\n",
    "print (lista)\n",
    "#Para hacer un comentario\n"
   ]
  },
  {
   "cell_type": "code",
   "execution_count": 17,
   "id": "3c2d0a67-36ba-4d8b-bcec-9623beca5380",
   "metadata": {},
   "outputs": [
    {
     "name": "stdout",
     "output_type": "stream",
     "text": [
      "mie\n"
     ]
    }
   ],
   "source": [
    "dia_semana = [\"lun\", \"mar\", \"mie\", \"jue\", \"vie\", \"sab\", \"dom\"]\n",
    "print (dia_semana[2])\n",
    "#La lista empieza a contar desde el 0\n"
   ]
  },
  {
   "cell_type": "code",
   "execution_count": 18,
   "id": "e3481a25-e8fb-40f3-8a70-cb9fd46f7562",
   "metadata": {},
   "outputs": [
    {
     "name": "stdout",
     "output_type": "stream",
     "text": [
      "dom\n"
     ]
    }
   ],
   "source": [
    "print(dia_semana[-1])"
   ]
  },
  {
   "cell_type": "code",
   "execution_count": 19,
   "id": "5ead8535-b488-497e-8777-a0f5167f25a1",
   "metadata": {},
   "outputs": [
    {
     "name": "stdout",
     "output_type": "stream",
     "text": [
      "Este es un texto con \"comillas simples\"\n"
     ]
    }
   ],
   "source": [
    "print ('Este es un texto con \"comillas simples\"')"
   ]
  },
  {
   "cell_type": "code",
   "execution_count": 20,
   "id": "8ef9b83b-981b-4159-907c-c8c5eaee898a",
   "metadata": {},
   "outputs": [
    {
     "name": "stdout",
     "output_type": "stream",
     "text": [
      "['dom', 'mar', 'mie', 'jue', 'vie', 'sab', 'dom']\n"
     ]
    }
   ],
   "source": [
    "dia_semana[0]= \"dom\"\n",
    "print (dia_semana)\n"
   ]
  },
  {
   "cell_type": "code",
   "execution_count": 21,
   "id": "a23b5afb-7687-4bb4-80d8-f3150ad12519",
   "metadata": {},
   "outputs": [
    {
     "name": "stdout",
     "output_type": "stream",
     "text": [
      "['dom', 'mar', 'mie', 'jue', 'vie', 'sab', 'dom', 'otro']\n"
     ]
    }
   ],
   "source": [
    "dia_semana.append ('otro')\n",
    "print (dia_semana)"
   ]
  },
  {
   "cell_type": "code",
   "execution_count": 22,
   "id": "7e3a385b-275c-4943-9e5d-938a16662fde",
   "metadata": {},
   "outputs": [
    {
     "name": "stdout",
     "output_type": "stream",
     "text": [
      "['primero', 'dom', 'mar', 'mie', 'jue', 'vie', 'sab', 'dom', 'otro']\n"
     ]
    }
   ],
   "source": [
    "dia_semana.insert (0, 'primero')\n",
    "print (dia_semana)"
   ]
  },
  {
   "cell_type": "code",
   "execution_count": 23,
   "id": "72022958-7c0e-4ddf-83af-e90aa33fd312",
   "metadata": {},
   "outputs": [
    {
     "name": "stdout",
     "output_type": "stream",
     "text": [
      "['dom', 'dom', 'jue', 'mar', 'mie', 'otro', 'primero', 'sab', 'vie']\n"
     ]
    }
   ],
   "source": [
    "dia_semana.sort ()\n",
    "print (dia_semana)"
   ]
  },
  {
   "cell_type": "markdown",
   "id": "05705a77-3639-419d-a1b1-e3b43c3ee176",
   "metadata": {},
   "source": [
    "# Ejercicios python principiante"
   ]
  },
  {
   "cell_type": "code",
   "execution_count": 25,
   "id": "a002a47c-9a2b-4a4f-acf5-00f339c214a6",
   "metadata": {},
   "outputs": [
    {
     "name": "stdout",
     "output_type": "stream",
     "text": [
      "20\n"
     ]
    }
   ],
   "source": [
    "#1. Ejercicio: Asignación simple\n",
    "numero= 20\n",
    "print (numero)\n"
   ]
  },
  {
   "cell_type": "code",
   "execution_count": 29,
   "id": "eb2aaa04-8104-483d-a0e0-c9913fb7a707",
   "metadata": {},
   "outputs": [
    {
     "name": "stdout",
     "output_type": "stream",
     "text": [
      "3\n"
     ]
    }
   ],
   "source": [
    "#2. Ejercicio: Sumar dos números\n",
    "n1= 1\n",
    "n2= 2\n",
    "print (n1+n2)\n"
   ]
  },
  {
   "cell_type": "code",
   "execution_count": 30,
   "id": "da0cd51c-c8ed-436a-84d0-130e1f63cdc2",
   "metadata": {},
   "outputs": [
    {
     "name": "stdout",
     "output_type": "stream",
     "text": [
      "pedro gómez\n"
     ]
    }
   ],
   "source": [
    "#3. Ejercicio: Concatenar cadenas\n",
    "nombre = \"pedro\"\n",
    "apellido = \"gómez\"\n",
    "print (nombre + ' ' + apellido)\n"
   ]
  },
  {
   "cell_type": "code",
   "execution_count": 32,
   "id": "d4a05ae1-8898-4416-ab5a-f304aee549e3",
   "metadata": {},
   "outputs": [
    {
     "name": "stdin",
     "output_type": "stream",
     "text": [
      "¿Cuantos años tienes? 22\n"
     ]
    },
    {
     "name": "stdout",
     "output_type": "stream",
     "text": [
      "tengo 22 años\n"
     ]
    }
   ],
   "source": [
    "#4. Ejercicio: Uso de input\n",
    "años= input (\"¿Cuantos años tienes?\")\n",
    "print (f\"tengo {años} años\")"
   ]
  },
  {
   "cell_type": "code",
   "execution_count": 33,
   "id": "3ee449e5-d34e-4a27-bcb4-b241dfb1df76",
   "metadata": {},
   "outputs": [
    {
     "name": "stdout",
     "output_type": "stream",
     "text": [
      "45\n"
     ]
    }
   ],
   "source": [
    "#5. Ejercicio: Multiplicación\n",
    "x= 5\n",
    "y= 9\n",
    "print (5 * 9)"
   ]
  },
  {
   "cell_type": "code",
   "execution_count": 34,
   "id": "c6546fca-9b6e-460c-8e54-61bc99f61d96",
   "metadata": {},
   "outputs": [
    {
     "name": "stdout",
     "output_type": "stream",
     "text": [
      "[1, 2, 3, 4, 5]\n"
     ]
    }
   ],
   "source": [
    "# 6. Ejercicio: Lista de números\n",
    "Lista= [1, 2, 3, 4, 5]\n",
    "print (Lista)"
   ]
  },
  {
   "cell_type": "code",
   "execution_count": 41,
   "id": "9672fa18-1ae7-4ebd-94e6-4213febeb8aa",
   "metadata": {},
   "outputs": [
    {
     "name": "stdout",
     "output_type": "stream",
     "text": [
      "1\n",
      "2\n",
      "3\n"
     ]
    }
   ],
   "source": [
    "#7. Ejercicio: Bucle for\n",
    "for i in range(1, 4):\n",
    "    print(i)\n"
   ]
  },
  {
   "cell_type": "code",
   "execution_count": 42,
   "id": "0af66e55-3cb7-4a22-94e8-5eb790ea6e65",
   "metadata": {},
   "outputs": [
    {
     "name": "stdout",
     "output_type": "stream",
     "text": [
      "60\n"
     ]
    }
   ],
   "source": [
    "#8. Ejercicio: Sumar elementos de una lista\n",
    "valores= [10, 20, 30]\n",
    "suma= sum(valores)\n",
    "print (suma)"
   ]
  },
  {
   "cell_type": "code",
   "execution_count": 43,
   "id": "6cb0dd21-dceb-4eed-9a1c-2973e92fe46e",
   "metadata": {},
   "outputs": [
    {
     "name": "stdout",
     "output_type": "stream",
     "text": [
      "True\n"
     ]
    }
   ],
   "source": [
    "#9. Ejercicio: Comparar dos números\n",
    "a=2\n",
    "b=3\n",
    "resultado = a < b\n",
    "print (resultado)\n"
   ]
  },
  {
   "cell_type": "code",
   "execution_count": 45,
   "id": "c8bf3371-ccfa-47b9-b250-bd28f41c74fc",
   "metadata": {},
   "outputs": [
    {
     "name": "stdout",
     "output_type": "stream",
     "text": [
      "2.0\n"
     ]
    }
   ],
   "source": [
    "# 10. Dividir dos números\n",
    "x=8\n",
    "y=4\n",
    "print (x/y)"
   ]
  },
  {
   "cell_type": "code",
   "execution_count": 46,
   "id": "b7e6e448-1d7e-42a3-95a9-9de7bd25d289",
   "metadata": {},
   "outputs": [
    {
     "name": "stdout",
     "output_type": "stream",
     "text": [
      "{'nombre': 'Juan', 'edad': 30}\n"
     ]
    }
   ],
   "source": [
    "# 11. Ejercicio: Crear un diccionario\n",
    "persona = { 'nombre': 'Juan', 'edad': 30 }\n",
    "\n",
    "print(persona)\n"
   ]
  },
  {
   "cell_type": "code",
   "execution_count": 47,
   "id": "a51225b9-6b3d-4bf5-8936-938f1e2b5572",
   "metadata": {},
   "outputs": [
    {
     "name": "stdout",
     "output_type": "stream",
     "text": [
      "Juan\n"
     ]
    }
   ],
   "source": [
    "#12. Ejercicio: Acceder a un valor en un diccionario\n",
    "print(persona[\"nombre\"])"
   ]
  },
  {
   "cell_type": "code",
   "execution_count": 50,
   "id": "1f46b855-1193-47d3-a281-c3bedf08e7f6",
   "metadata": {},
   "outputs": [
    {
     "name": "stdout",
     "output_type": "stream",
     "text": [
      "0\n",
      "1\n",
      "2\n",
      "3\n",
      "4\n",
      "5\n"
     ]
    }
   ],
   "source": [
    "#13. Ejercicio: Imprimir un rango de números\n",
    "for x in range(6):\n",
    "    print(x)"
   ]
  },
  {
   "cell_type": "code",
   "execution_count": null,
   "id": "20204c83-4c48-4be7-aba0-a3ff3c8c70e9",
   "metadata": {},
   "outputs": [],
   "source": []
  }
 ],
 "metadata": {
  "kernelspec": {
   "display_name": "Python 3 (ipykernel)",
   "language": "python",
   "name": "python3"
  },
  "language_info": {
   "codemirror_mode": {
    "name": "ipython",
    "version": 3
   },
   "file_extension": ".py",
   "mimetype": "text/x-python",
   "name": "python",
   "nbconvert_exporter": "python",
   "pygments_lexer": "ipython3",
   "version": "3.12.9"
  }
 },
 "nbformat": 4,
 "nbformat_minor": 5
}
