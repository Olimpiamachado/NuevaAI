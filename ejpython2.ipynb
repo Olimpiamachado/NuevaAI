{
 "cells": [
  {
   "cell_type": "markdown",
   "id": "ae5b0be9-78da-4212-b781-dbfb9e3ebc79",
   "metadata": {},
   "source": [
    "# ejercicos Python 2\n"
   ]
  },
  {
   "cell_type": "code",
   "execution_count": 1,
   "id": "2ae5e230-f272-41f7-a7b5-97eab360a762",
   "metadata": {},
   "outputs": [
    {
     "name": "stdout",
     "output_type": "stream",
     "text": [
      "El número 5 es mayor que 3\n"
     ]
    }
   ],
   "source": [
    "#1. Ejercicio: Indentación correcta\n",
    "if 5 > 3:\n",
    "    print(\"El número 5 es mayor que 3\")"
   ]
  },
  {
   "cell_type": "code",
   "execution_count": 2,
   "id": "6d3957b7-d787-4a74-88a2-752b7ea64f36",
   "metadata": {},
   "outputs": [
    {
     "name": "stdout",
     "output_type": "stream",
     "text": [
      "10\n"
     ]
    }
   ],
   "source": [
    "#2. Ejercicio: Asignación de variables\n",
    "x= 10\n",
    "print(x)\n"
   ]
  },
  {
   "cell_type": "code",
   "execution_count": 6,
   "id": "0509bb7b-3cd7-4868-ad2c-7670e43560dd",
   "metadata": {},
   "outputs": [
    {
     "name": "stdout",
     "output_type": "stream",
     "text": [
      " a es mayor que b \n"
     ]
    }
   ],
   "source": [
    "#3. Ejercicio: Comparación de números\n",
    "a= 7\n",
    "b= 5\n",
    "if a > b:\n",
    "    print (\" a es mayor que b \")\n",
    "    if a < b:\n",
    "        print ( ' a es menor que b ')\n"
   ]
  },
  {
   "cell_type": "code",
   "execution_count": 8,
   "id": "042a27bc-830a-4dbb-8d3d-1042f31d9844",
   "metadata": {},
   "outputs": [
    {
     "name": "stdout",
     "output_type": "stream",
     "text": [
      "['juan', 'perez']\n"
     ]
    }
   ],
   "source": [
    "#4. Ejercicio: Concatenación de cadenas\n",
    "nombre= [\"juan\"]\n",
    "apellido= [\"perez\"]\n",
    "nombre_completo = nombre + apellido\n",
    "print(nombre_completo)\n"
   ]
  },
  {
   "cell_type": "code",
   "execution_count": null,
   "id": "c9bbc2c6-6452-4b09-816e-31c03283bea4",
   "metadata": {},
   "outputs": [],
   "source": [
    "# 5. Ejercicio: Comentarios\n",
    "x=5\n",
    "#Estoy dandole un valor a la variable x\n"
   ]
  },
  {
   "cell_type": "code",
   "execution_count": 16,
   "id": "15bc254b-0324-4aa2-a556-8d51b7b028b0",
   "metadata": {},
   "outputs": [
    {
     "name": "stdout",
     "output_type": "stream",
     "text": [
      "los numeros no son iguales\n"
     ]
    }
   ],
   "source": [
    "#6. Ejercicio: Uso de if\n",
    "a = 7\n",
    "b = 5\n",
    "if a == b:\n",
    "    print (\"los numeros son iguales\")\n",
    "else:\n",
    "    print (\"los numeros no son iguales\")\n"
   ]
  },
  {
   "cell_type": "code",
   "execution_count": 19,
   "id": "02862c0f-0bea-49e6-8af4-e306c0dea8a6",
   "metadata": {},
   "outputs": [
    {
     "name": "stdout",
     "output_type": "stream",
     "text": [
      "1\n",
      "2\n",
      "3\n",
      "4\n",
      "5\n"
     ]
    }
   ],
   "source": [
    "#7. Ejercicio: Bucles for\n",
    "for x in range (1,6):\n",
    "    print (x)"
   ]
  },
  {
   "cell_type": "code",
   "execution_count": 30,
   "id": "8e0dce31-a33b-40f2-a27e-27f45cdbda5a",
   "metadata": {},
   "outputs": [
    {
     "name": "stdout",
     "output_type": "stream",
     "text": [
      "1\n",
      "2\n",
      "3\n",
      "4\n",
      "5\n"
     ]
    }
   ],
   "source": [
    "#Ejercicio: Uso de while  \n",
    "num = 1\n",
    "while num <= 5:\n",
    "    print(num)\n",
    "    num += 1\n",
    "#El incremento lo pongo después del print para q no me cuente hasta 6. (Escribe el 1 y luego ya mpieza a hacer 1+1, 2+1, 3+1, 4+1)  \n",
    "    "
   ]
  },
  {
   "cell_type": "code",
   "execution_count": null,
   "id": "cf857596-4261-400e-92bf-6429dcb92410",
   "metadata": {},
   "outputs": [],
   "source": [
    "#9. Ejercicio: Función simple\n",
    "def saludo (nombre)\n",
    "    return (f\"Hola{nombre}\")\n",
    "saludo (Olimpia)\n"
   ]
  },
  {
   "cell_type": "code",
   "execution_count": 4,
   "id": "07bf84b0-9c72-40c8-af73-b1094882dc37",
   "metadata": {},
   "outputs": [
    {
     "name": "stdout",
     "output_type": "stream",
     "text": [
      "<class 'int'>\n",
      "<class 'str'>\n"
     ]
    }
   ],
   "source": [
    "#10. Ejercicio: Tipos de datos\n",
    "Edad = 25\n",
    "Nombre = 'Carlos'\n",
    "print (type (Edad))\n",
    "print (type (Nombre))\n"
   ]
  },
  {
   "cell_type": "code",
   "execution_count": 10,
   "id": "ff881649-1de2-4a27-9779-79ed996f8269",
   "metadata": {},
   "outputs": [
    {
     "name": "stdout",
     "output_type": "stream",
     "text": [
      "manzana\n",
      "cerezas\n"
     ]
    }
   ],
   "source": [
    "# 11. Ejercicio: Listas\n",
    "frutas= ['manzana', 'platano', 'cerezas']\n",
    "print (frutas[0])\n",
    "print (frutas[-1])\n"
   ]
  },
  {
   "cell_type": "code",
   "execution_count": 11,
   "id": "19c52cbd-ca1e-4414-babb-d2bd6ddc7423",
   "metadata": {},
   "outputs": [
    {
     "name": "stdout",
     "output_type": "stream",
     "text": [
      "12\n",
      "4\n",
      "32\n",
      "2.0\n"
     ]
    }
   ],
   "source": [
    "#12. Ejercicio: Operadores aritméticos\n",
    "x= 8\n",
    "y= 4\n",
    "print (x + y)\n",
    "print (x - y)\n",
    "print (x * y)\n",
    "print (x/y)\n"
   ]
  },
  {
   "cell_type": "code",
   "execution_count": 12,
   "id": "7debf396-6848-4b4b-8168-9c5cdc622ed8",
   "metadata": {},
   "outputs": [
    {
     "name": "stdout",
     "output_type": "stream",
     "text": [
      "No se puede dividir entre cero.\n"
     ]
    }
   ],
   "source": [
    "#13. Ejercicio: Manejo de excepciones\n",
    "try:\n",
    "    resultado = 10 / 0\n",
    "except ZeroDivisionError:\n",
    "    print(\"No se puede dividir entre cero.\")"
   ]
  },
  {
   "cell_type": "code",
   "execution_count": 15,
   "id": "0d5a9b4d-e70f-44a6-af2d-b77a0353e5d1",
   "metadata": {},
   "outputs": [
    {
     "name": "stdout",
     "output_type": "stream",
     "text": [
      "rojo\n"
     ]
    }
   ],
   "source": [
    "#14. Ejercicio: Tuplas\n",
    "colores= ('Blanco', 'rojo', 'amarillo', 'azul')\n",
    "print (colores[1])"
   ]
  },
  {
   "cell_type": "code",
   "execution_count": 16,
   "id": "f95ad8a5-9be0-4b96-bc19-71226e086b43",
   "metadata": {},
   "outputs": [
    {
     "name": "stdout",
     "output_type": "stream",
     "text": [
      "Olimpia\n"
     ]
    }
   ],
   "source": [
    "#15. Ejercicio: Diccionarios\n",
    "Persona = {'Nombre': 'Olimpia', 'Apellido': 'Machado', 'Edad': 22}\n",
    "print (Persona['Nombre'])\n"
   ]
  },
  {
   "cell_type": "code",
   "execution_count": 21,
   "id": "fa04a28b-e7b0-484c-a305-e07e61862aef",
   "metadata": {},
   "outputs": [
    {
     "name": "stdout",
     "output_type": "stream",
     "text": [
      "[1, 2, 3, 4]\n"
     ]
    }
   ],
   "source": [
    "#16. Ejercicio: Modificar listas\n",
    "Numeros = [1, 2, 3]\n",
    "Numeros.append( 4)\n",
    "print (Numeros)"
   ]
  },
  {
   "cell_type": "code",
   "execution_count": 23,
   "id": "8de434e5-281c-48bc-acb3-c42c9370b633",
   "metadata": {},
   "outputs": [
    {
     "name": "stdout",
     "output_type": "stream",
     "text": [
      "2\n",
      "4\n",
      "6\n",
      "8\n",
      "10\n"
     ]
    }
   ],
   "source": [
    "#17. Ejercicio: Uso de range\n",
    "for x in range (2,11,2):\n",
    "    print (x)"
   ]
  },
  {
   "cell_type": "code",
   "execution_count": 25,
   "id": "b5ea2b74-5061-4a3a-8a0b-d3548dd38356",
   "metadata": {},
   "outputs": [
    {
     "name": "stdin",
     "output_type": "stream",
     "text": [
      "¿Cómo te llamas? Olimpia\n"
     ]
    },
    {
     "name": "stdout",
     "output_type": "stream",
     "text": [
      "Hola, Olimpia\n"
     ]
    }
   ],
   "source": [
    "#18. Ejercicio: Uso de input\n",
    "Nombre= input(\"¿Cómo te llamas?\")\n",
    "print (f'Hola, {Nombre}')\n"
   ]
  },
  {
   "cell_type": "code",
   "execution_count": 28,
   "id": "8493e5ea-f45d-41e9-adc5-5a348e00e079",
   "metadata": {},
   "outputs": [
    {
     "name": "stdout",
     "output_type": "stream",
     "text": [
      "20\n"
     ]
    }
   ],
   "source": [
    "#19. Ejercicio: Función con valor de retorno\n",
    "def multiplicar (a,b):\n",
    "    return a * b\n",
    "resultado= multiplicar (4,5)\n",
    "print(resultado)\n"
   ]
  },
  {
   "cell_type": "code",
   "execution_count": 29,
   "id": "c1802e08-108e-4d17-9bfa-c39287be7469",
   "metadata": {},
   "outputs": [
    {
     "name": "stdout",
     "output_type": "stream",
     "text": [
      "Es entero\n"
     ]
    }
   ],
   "source": [
    "#20. Comprobación de tipo de datos\n",
    "x = 10\n",
    "if isinstance(x, int):\n",
    "    print(\"Es entero\")\n",
    "else:\n",
    "    print(\"No es entero\")"
   ]
  },
  {
   "cell_type": "code",
   "execution_count": null,
   "id": "7c27dcb3-3417-47ed-b04a-8dac28dafeb6",
   "metadata": {},
   "outputs": [],
   "source": []
  }
 ],
 "metadata": {
  "kernelspec": {
   "display_name": "Python 3 (ipykernel)",
   "language": "python",
   "name": "python3"
  },
  "language_info": {
   "codemirror_mode": {
    "name": "ipython",
    "version": 3
   },
   "file_extension": ".py",
   "mimetype": "text/x-python",
   "name": "python",
   "nbconvert_exporter": "python",
   "pygments_lexer": "ipython3",
   "version": "3.12.9"
  }
 },
 "nbformat": 4,
 "nbformat_minor": 5
}
