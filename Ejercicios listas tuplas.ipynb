{
 "cells": [
  {
   "cell_type": "markdown",
   "id": "518806c3-ff43-430f-8858-59ec81615988",
   "metadata": {},
   "source": [
    "### Ejercicio 1. Tienes una lista de pacientes que se han registrado en una clínica. Realiza las siguientes operaciones: ###\n",
    "-1. Agrega un nuevo paciente a la lista.\n",
    "-2. Elimina a un paciente que ya no se presenta.\n",
    "-3. Encuentra el índice del paciente \"María López\".\n",
    "-4. Ordena la lista de pacientes alfabéticamente.\n"
   ]
  },
  {
   "cell_type": "code",
   "execution_count": 7,
   "id": "30d18d5f-7549-4a26-89b7-dea6fddf1a29",
   "metadata": {},
   "outputs": [
    {
     "name": "stdout",
     "output_type": "stream",
     "text": [
      "['Juan Pérez', 'María López', 'Carlos Gómez', 'Ana Torres', 'Ana Lopez']\n",
      "['María López', 'Carlos Gómez', 'Ana Torres', 'Ana Lopez']\n",
      "['María López', 'Carlos Gómez', 'Ana Torres', 'Ana Lopez']\n",
      "['Ana Lopez', 'Ana Torres', 'Carlos Gómez', 'María López']\n"
     ]
    }
   ],
   "source": [
    "pacientes = [\"Juan Pérez\", \"María López\", \"Carlos Gómez\", \"Ana Torres\"]\n",
    "pacientes.append('Ana Lopez')\n",
    "print (pacientes)\n",
    "pacientes.remove('Juan Pérez')\n",
    "print (pacientes)\n",
    "pacientes.index ('María López')\n",
    "print (pacientes)\n",
    "pacientes.sort ()\n",
    "print (pacientes)"
   ]
  },
  {
   "cell_type": "markdown",
   "id": "2c633b43-8482-4a2a-b54f-d0d844307018",
   "metadata": {},
   "source": [
    "### Ejercicio 2: Tienes una tupla con los parámetros vitales de un paciente, que no se deben modificar: ###\n",
    "1. Accede y muestra el nombre del paciente.\n",
    "2. Muestra la presión arterial (sistólica y diastólica) del paciente.\n",
    "3. Si el valor de saturación de oxígeno es menor a 90, muestra un mensaje de alerta."
   ]
  },
  {
   "cell_type": "code",
   "execution_count": 11,
   "id": "a0d3662f-48bd-469c-8c87-212d9e30c688",
   "metadata": {},
   "outputs": [
    {
     "name": "stdout",
     "output_type": "stream",
     "text": [
      "Juan Pérez\n",
      "120 80\n",
      "Alerta, la saturación de oxígeno es baja\n"
     ]
    }
   ],
   "source": [
    "parametros_vitales = (\"Juan Pérez\", 36.5, 120, 80, 89) # (nombre, temperatura, sistólica, diastólica, saturación O2)\n",
    "nombre_paciente = parametros_vitales[0]\n",
    "temperatura  = parametros_vitales[1]\n",
    "sistolica = parametros_vitales[2]\n",
    "diastolica = parametros_vitales[3]\n",
    "saturacion = parametros_vitales[4]\n",
    "print (nombre_paciente)\n",
    "print ( (sistolica),(diastolica))\n",
    "if saturacion < 90:\n",
    "    print ('Alerta, la saturación de oxígeno es baja')\n"
   ]
  },
  {
   "cell_type": "markdown",
   "id": "f9e25b19-2f25-46d4-b1a8-58c448242608",
   "metadata": {},
   "source": [
    "### Sets: Diagnósticos Únicos de Enfermedades. Ejercicio 3: Tienes un conjunto de diagnósticos de enfermedades de varios pacientes. Realiza las siguientes operaciones: ###\n",
    "1. Agrega un nuevo diagnóstico al conjunto.\n",
    "2. Elimina un diagnóstico que ya no se está utilizando.\n",
    "3. Encuentra la intersección entre los diagnósticos de dos pacientes.\n",
    "4. Verifica si un conjunto de diagnósticos está completamente incluido en otro conjunto."
   ]
  },
  {
   "cell_type": "code",
   "execution_count": 19,
   "id": "e7c18f4d-8c78-436a-b29d-9c71224778d9",
   "metadata": {},
   "outputs": [
    {
     "name": "stdout",
     "output_type": "stream",
     "text": [
      "{'COVID-19', 'alergia', 'diabetes', 'asma', 'influenza', 'hipertensión'}\n",
      "{'COVID-19', 'alergia', 'diabetes', 'influenza', 'hipertensión'}\n",
      "{'hipertensión'}\n",
      "False\n"
     ]
    }
   ],
   "source": [
    "diagnosticos = {\"diabetes\", \"hipertensión\", \"asma\", \"influenza\", \"COVID-19\"}\n",
    "diagnosticos.add('alergia')\n",
    "print (diagnosticos)\n",
    "diagnosticos.remove('asma')\n",
    "print (diagnosticos)\n",
    "paciente2 = {\"hipertensión\", \"asma\", 'artritis'}\n",
    "Comunes = diagnosticos.intersection(paciente2)\n",
    "print (Comunes)\n",
    "es_subconjunto = paciente2.issubset(diagnosticos) #Para comprobar si el paciente 2 es subcojunto del set de diagnosticos (si todas las enfermedades del p2 estan en diagnosticos aparecerá \n",
    "print (es_subconjunto)"
   ]
  },
  {
   "cell_type": "markdown",
   "id": "0519fa18-964a-45d3-80f4-9bb1524d6bda",
   "metadata": {},
   "source": [
    "### Diccionarios. Ejercicio 4: Ejercicio: Tienes un diccionario con la información de un paciente. Realiza las siguientes operaciones: ###\n",
    "1. Agrega un nuevo tratamiento para el paciente.\n",
    "2. Elimina el contacto de emergencia.\n",
    "3. Muestra el nombre del paciente, su edad y los diagnósticos.\n",
    "4. Verifica si el paciente tiene un tratamiento para \"hipertensión\" y, en caso afirmativo, muestra el medicamento"
   ]
  },
  {
   "cell_type": "code",
   "execution_count": 49,
   "id": "f721dec5-aa50-4c53-8cbd-856ff4e76475",
   "metadata": {},
   "outputs": [
    {
     "name": "stdout",
     "output_type": "stream",
     "text": [
      "{'nombre': 'María López', 'edad': 45, 'diagnosticos': ['diabetes', 'hipertensión'], 'tratamientos': {'metformina': '500 mg/día', 'enalapril': '10 mg/día', 'insulina': ' 20mg/día'}}\n",
      "María López 45 ['diabetes', 'hipertensión']\n",
      "Tratamiento de hipertensión 10 mg/día\n",
      "['diabetes', 'hipertensión']\n"
     ]
    }
   ],
   "source": [
    "historia_clinica = {\n",
    "\"nombre\": \"María López\",\n",
    "\"edad\": 45,\n",
    "\"diagnosticos\": [\"diabetes\", \"hipertensión\"],\n",
    "\"tratamientos\": {\"metformina\": \"500 mg/día\", \"enalapril\": \"10 mg/día\"},\n",
    "\"contacto_emergencia\": {\"nombre\": \"Carlos López\", \"teléfono\": \"555-1234\"}\n",
    "}\n",
    "\n",
    "historia_clinica['tratamientos'].update({'insulina': ' 20mg/día'})\n",
    "historia_clinica.pop('contacto_emergencia')\n",
    "print (historia_clinica)\n",
    "\n",
    "nombre = historia_clinica.get('nombre')\n",
    "edad = historia_clinica.get('edad')\n",
    "diagnosticos = historia_clinica.get('diagnosticos')\n",
    "print(nombre, edad, diagnosticos)\n",
    "\n",
    "if 'hipertensión' in historia_clinica['diagnosticos']:\n",
    "     medicamento= historia_clinica['tratamientos'].get('enalapril')\n",
    "     if medicamento:\n",
    "            print(f'Tratamiento de hipertensión {medicamento}')\n",
    "\n",
    "\n",
    "\n",
    "\n"
   ]
  },
  {
   "cell_type": "markdown",
   "id": "7d7cb2fa-e764-4473-817c-c069edad1ebf",
   "metadata": {},
   "source": [
    "### Ejercicio 5: Tienes una lista de medicamentos administrados a pacientes durante la semana. ###\n",
    "1. Agrega un nuevo medicamento al final de la lista.\n",
    "2. Elimina el medicamento que se administró el martes.\n",
    "3. Cuenta cuántas veces se administró el medicamento \"paracetamol\".\n",
    "4. Ordena la lista de medicamentos administrados en orden alfabético"
   ]
  },
  {
   "cell_type": "code",
   "execution_count": 55,
   "id": "a3a5a9e0-d387-4ac3-8af8-003d74140abd",
   "metadata": {},
   "outputs": [
    {
     "name": "stdout",
     "output_type": "stream",
     "text": [
      "['paracetamol', 'metformina', 'insulina', 'paracetamol', 'aspirina']\n",
      "['aspirina', 'insulina', 'metformina', 'paracetamol', 'paracetamol']\n"
     ]
    },
    {
     "data": {
      "text/plain": [
       "2"
      ]
     },
     "execution_count": 55,
     "metadata": {},
     "output_type": "execute_result"
    }
   ],
   "source": [
    "medicamentos_admin = [\"paracetamol\", \"ibuprofeno\", \"metformina\", \"insulina\",\"paracetamol\"]\n",
    "medicamentos_admin.append('aspirina')\n",
    "medicamentos_admin.remove('ibuprofeno')\n",
    "print(medicamentos_admin)\n",
    "\n",
    "medicamentos_admin.sort()\n",
    "print(medicamentos_admin)\n",
    "medicamentos_admin.count('paracetamol')"
   ]
  },
  {
   "cell_type": "markdown",
   "id": "4a6db00c-c624-4fba-a368-2f0512f77121",
   "metadata": {},
   "source": [
    "### Ejercicio 6: Tienes una tupla con los nombres de los medicamentos y las dosis prescritas de un paciente: ###\n",
    "1. Accede y muestra el medicamento \"metformina\" junto con su dosis.\n",
    "2. Muestra la cantidad total de medicamentos prescritos."
   ]
  },
  {
   "cell_type": "code",
   "execution_count": 57,
   "id": "5c9b1380-40c5-400c-ac20-faf967406d01",
   "metadata": {},
   "outputs": [
    {
     "name": "stdout",
     "output_type": "stream",
     "text": [
      "Medicamento: metformina, Dosis: 500 mg\n",
      "Cantidad total de medicamentos prescritos: 3\n"
     ]
    }
   ],
   "source": [
    "medicamentos_prescritos = (\"metformina\", \"500 mg\", \"enalapril\", \"10 mg\", \"insulina\", \"20 UI\")\n",
    "\n",
    "# 1. Acceder y mostrar el medicamento \"metformina\" junto con su dosis\n",
    "indice_metformina = 0  # Índice de metformina\n",
    "dosis_metformina = medicamentos_prescritos[indice_metformina + 1]  # Dosis está en el siguiente índice\n",
    "print(f\"Medicamento: {medicamentos_prescritos[indice_metformina]}, Dosis: {dosis_metformina}\")\n",
    "\n",
    "# 2. Mostrar la cantidad total de medicamentos prescritos\n",
    "cantidad_medicamentos = len(medicamentos_prescritos) // 2  # Dividimos entre 2 porque hay un par (medicamento, dosis)\n",
    "print(f\"Cantidad total de medicamentos prescritos: {cantidad_medicamentos}\")\n"
   ]
  },
  {
   "cell_type": "markdown",
   "id": "1859546b-480c-4d77-9649-3bded88c8900",
   "metadata": {},
   "source": [
    "### Sets. Ejercicio 7: Tienes un conjunto de enfermedades preexistentes de un paciente: ###\n",
    "1. Agrega una nueva enfermedad al registro.\n",
    "2. Elimina una enfermedad del conjunto.\n",
    "3. Verifica si el paciente tiene \"diabetes\" en su registro "
   ]
  },
  {
   "cell_type": "code",
   "execution_count": 60,
   "id": "3b951571-45d6-4221-9746-f4426ced209d",
   "metadata": {},
   "outputs": [
    {
     "name": "stdout",
     "output_type": "stream",
     "text": [
      "{'asma', 'diabetes', 'alergias'}\n",
      "El paciente tiene diabetes\n"
     ]
    }
   ],
   "source": [
    "enfermedades_preexistentes = {\"hipertensión\", \"asma\", \"diabetes\"}\n",
    "enfermedades_preexistentes.add('alergias')\n",
    "enfermedades_preexistentes.remove('hipertensión')\n",
    "print(enfermedades_preexistentes)\n",
    "if 'diabetes' in enfermedades_preexistentes:\n",
    "    print ('El paciente tiene diabetes')"
   ]
  },
  {
   "cell_type": "markdown",
   "id": "261aac66-217f-435d-91e0-9534c8ad8f45",
   "metadata": {},
   "source": [
    "### Ejercicio 8: Tienes un diccionario con datos de pacientes y sus consultas médicas: ###\n",
    "1. Agrega una nueva consulta para un paciente específico.\n",
    "2. Elimina un paciente que ya no pertenece al registro.\n",
    "3. Muestra todas las consultas de un paciente."
   ]
  },
  {
   "cell_type": "code",
   "execution_count": 71,
   "id": "36cb886e-99a1-482a-a826-6b0e38d5193a",
   "metadata": {},
   "outputs": [
    {
     "name": "stdout",
     "output_type": "stream",
     "text": [
      "{'Juan Pérez': ['consulta 1', 'consulta 2', 'consulta 3'], 'María López': ['consulta 1', 'consulta 2']}\n",
      "{'Juan Pérez': ['consulta 1', 'consulta 2', 'consulta 3']}\n",
      "{'Juan Pérez': ['consulta 1', 'consulta 2', 'consulta 3']}\n"
     ]
    }
   ],
   "source": [
    "pacientes_registro = {\n",
    "\"Juan Pérez\": [\"consulta 1\", \"consulta 2\"],\n",
    "\"María López\": [\"consulta 1\", \"consulta 2\"]\n",
    "}\n",
    "pacientes_registro['Juan Pérez'].append('consulta 3') #.append pq dentro de la clave 'juan perez' hay una lista de consultas (update no sirve para listas)\n",
    "#Forma con update: pacientes_registro.update({'Juan Pérez': pacientes_registro['Juan Pérez]+['consulta 3']})\n",
    "print (pacientes_registro)\n",
    "\n",
    "pacientes_registro.pop('María López')\n",
    "print(pacientes_registro)\n",
    "\n",
    "pacientes_registro.values()\n",
    "print(pacientes_registro)\n",
    "\n",
    "\n"
   ]
  },
  {
   "cell_type": "code",
   "execution_count": null,
   "id": "1ae2e862-ede7-4879-a3cd-321d1c24b48e",
   "metadata": {},
   "outputs": [],
   "source": []
  }
 ],
 "metadata": {
  "kernelspec": {
   "display_name": "Python 3 (ipykernel)",
   "language": "python",
   "name": "python3"
  },
  "language_info": {
   "codemirror_mode": {
    "name": "ipython",
    "version": 3
   },
   "file_extension": ".py",
   "mimetype": "text/x-python",
   "name": "python",
   "nbconvert_exporter": "python",
   "pygments_lexer": "ipython3",
   "version": "3.12.9"
  }
 },
 "nbformat": 4,
 "nbformat_minor": 5
}
